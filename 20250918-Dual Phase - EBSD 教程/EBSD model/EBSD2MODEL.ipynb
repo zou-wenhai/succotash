{
 "cells": [
  {
   "cell_type": "code",
   "id": "initial_id",
   "metadata": {
    "collapsed": true,
    "ExecuteTime": {
     "end_time": "2025-09-19T02:41:12.105129Z",
     "start_time": "2025-09-19T02:41:12.101742Z"
    }
   },
   "source": [
    "from EBSD2GRID import EBSD2GRID\n",
    "import numpy as np\n",
    "import damask\n",
    "import pandas as pd\n",
    "import yaml"
   ],
   "outputs": [],
   "execution_count": 3
  },
  {
   "metadata": {
    "ExecuteTime": {
     "end_time": "2025-09-19T02:53:18.674156Z",
     "start_time": "2025-09-19T02:53:18.569173Z"
    }
   },
   "cell_type": "code",
   "source": [
    "ctf_file = \"Cu.ctf\"\n",
    "EBSD2GRID(ctf_file)"
   ],
   "id": "cb36ff7936dba74",
   "outputs": [],
   "execution_count": 15
  },
  {
   "metadata": {
    "ExecuteTime": {
     "end_time": "2025-09-19T02:53:19.587833Z",
     "start_time": "2025-09-19T02:53:19.241463Z"
    }
   },
   "cell_type": "code",
   "source": [
    "Fix_data = pd.read_csv(\"Cu.csv\", sep='\\t', dtype=str)\n",
    "\n",
    "# phase = 0 的 都改成 1\n",
    "# 相当于消除领解析的相\n",
    "\n",
    "Fix_data.loc[Fix_data['phase'] == '0', 'phase'] = '1'\n",
    "\n",
    "\n",
    "# phase = 1 的都改为 相名称\n",
    "Fix_data.loc[Fix_data['phase'] == '1', 'phase'] = 'Cu'\n",
    "#Fix_data.loc[Fix_data['phase'] == 2, 'phase'] = 'Cu2' 如果有第二相\n",
    "\n",
    "Fix_data.to_csv(\"Cu.csv\", index=False, sep=' ')"
   ],
   "id": "9313451e199f552",
   "outputs": [],
   "execution_count": 16
  },
  {
   "metadata": {
    "ExecuteTime": {
     "end_time": "2025-09-19T03:00:09.798763Z",
     "start_time": "2025-09-19T03:00:09.792078Z"
    }
   },
   "cell_type": "code",
   "source": [
    "with open(\"Hooke_Cu.yaml\", 'r', encoding='utf-8') as f:\n",
    "    Cu_elasticity = yaml.safe_load(f)\n",
    "\n",
    "with open(\"phenopowerlaw_Cu.yaml\", 'r', encoding='utf-8') as f:\n",
    "    Cu_plasticity = yaml.safe_load(f)\n",
    "\n",
    "homogenization = {\n",
    "    'SX': {\n",
    "        'N_constituents': 1,\n",
    "        'mechanical': {'type': 'pass'}  # No volume fractions, so no homogenization needed\n",
    "    }\n",
    "}\n",
    "\n",
    "# 会多一个Cu, 删了就行\n",
    "phase_Cu = {\n",
    "    'Cu': {\n",
    "        'lattice': 'cF',\n",
    "        'rho' : 8960.0,\n",
    "        'mechanical': {\n",
    "            'output': ['F', 'P', 'F_e', 'L_p', 'O'],\n",
    "            'elastic': Cu_elasticity,\n",
    "            'plastic': Cu_plasticity\n",
    "        }\n",
    "    }\n",
    "}\n",
    "\n",
    "# phase_Cu = {\n",
    "#         'lattice': 'cF',\n",
    "#         'rho' : 8960.0,\n",
    "#         'mechanical': {\n",
    "#             'output': ['F', 'P', 'F_e', 'L_p', 'O'],\n",
    "#             'elastic': Cu_elasticity,\n",
    "#             'plastic': Cu_plasticity\n",
    "#     }\n",
    "# }"
   ],
   "id": "2ee4f4dd14881f7d",
   "outputs": [],
   "execution_count": 28
  },
  {
   "metadata": {
    "ExecuteTime": {
     "end_time": "2025-09-19T03:00:10.905973Z",
     "start_time": "2025-09-19T03:00:09.989368Z"
    }
   },
   "cell_type": "code",
   "source": [
    "Model = damask.Table.load(\"Cu.csv\")\n",
    "\n",
    "gridfile = damask.GeomGrid.from_table(Model, 'pos', ['phase', 'qu'])\n",
    "gridfile.origin = [0, 0, 0]\n",
    "gridfile.size[2] = 0.05\n",
    "CM = damask.ConfigMaterial.from_table(Model, phase='phase', O='qu', homogenization='homogenization')\n",
    "CM['phase']['Cu'] = phase_Cu\n",
    "CM['homogenization']= homogenization"
   ],
   "id": "718d2e30b4a474ee",
   "outputs": [],
   "execution_count": 29
  },
  {
   "metadata": {
    "ExecuteTime": {
     "end_time": "2025-09-19T02:56:47.106503Z",
     "start_time": "2025-09-19T02:56:47.103137Z"
    }
   },
   "cell_type": "code",
   "source": "CM['phase']",
   "id": "f2c63ac6fafdec7a",
   "outputs": [
    {
     "data": {
      "text/plain": [
       "{'Cu': {'Cu': {'lattice': 'cF',\n",
       "   'rho': 8960.0,\n",
       "   'mechanical': {'output': ['F', 'P', 'F_e', 'L_p', 'O'],\n",
       "    'elastic': {'type': 'Hooke',\n",
       "     'references': ['W.C. Overton Jr. and J. Gaffney, Physical Review 98(4):969-977, 1955, https://doi.org/10.1103/PhysRev.98.969, fit to Tab. I (T_min=100K, T_max=300K)',\n",
       "      'Y.A. Chang and L. Himmel, Journal of Applied Physics 37:3567-3572, 1966, https://doi.org/10.1063/1.1708903, fit to Tab. II (T_min=300K, T_max=800K)'],\n",
       "     'C_11': 168900000000.0,\n",
       "     'C_11,T': -33320000.0,\n",
       "     'C_11,T^2': -10740.0,\n",
       "     'C_12': 121800000000.0,\n",
       "     'C_12,T': -14020000.0,\n",
       "     'C_12,T^2': -9003.0,\n",
       "     'C_44': 75800000000.0,\n",
       "     'C_44,T': -25550000.0,\n",
       "     'C_44,T^2': -2188.0,\n",
       "     'T_ref': 293.15},\n",
       "    'plastic': {'type': 'phenopowerlaw',\n",
       "     'references': ['T. Takeuchi, Transactions of the Japan Institute of Metals 16(10):629-640, 1975, https://doi.org/10.2320/matertrans1960.16.629, fitted to Fig. 3b ([111] and [001])'],\n",
       "     'output': ['xi_sl', 'gamma_sl'],\n",
       "     'N_sl': [12],\n",
       "     'dot_gamma_0_sl': [0.003],\n",
       "     'n_sl': [20],\n",
       "     'a_sl': [0.6],\n",
       "     'xi_0_sl': [1600000.0],\n",
       "     'xi_inf_sl': [96400000.0],\n",
       "     'h_0_sl-sl': [350000000.0],\n",
       "     'h_sl-sl': [1, 1, 5.123, 0.574, 1.123, 1.123, 1]}}}}}"
      ]
     },
     "execution_count": 25,
     "metadata": {},
     "output_type": "execute_result"
    }
   ],
   "execution_count": 25
  },
  {
   "metadata": {
    "ExecuteTime": {
     "end_time": "2025-09-19T02:59:49.151117Z",
     "start_time": "2025-09-19T02:59:44.350606Z"
    }
   },
   "cell_type": "code",
   "source": [
    "gridfile.save(\"Cu_ebsd\")\n",
    "CM.save(\"Cu_ebsd.yaml\")"
   ],
   "id": "8da07ce121f19591",
   "outputs": [],
   "execution_count": 27
  }
 ],
 "metadata": {
  "kernelspec": {
   "display_name": "Python 3",
   "language": "python",
   "name": "python3"
  },
  "language_info": {
   "codemirror_mode": {
    "name": "ipython",
    "version": 2
   },
   "file_extension": ".py",
   "mimetype": "text/x-python",
   "name": "python",
   "nbconvert_exporter": "python",
   "pygments_lexer": "ipython2",
   "version": "2.7.6"
  }
 },
 "nbformat": 4,
 "nbformat_minor": 5
}
