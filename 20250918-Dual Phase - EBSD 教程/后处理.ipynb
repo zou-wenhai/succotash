{
 "cells": [
  {
   "cell_type": "code",
   "metadata": {
    "ExecuteTime": {
     "end_time": "2025-09-19T05:56:31.198044Z",
     "start_time": "2025-09-19T05:56:30.496448Z"
    }
   },
   "source": [
    "import damask\n",
    "import numpy as np\n",
    "import pandas as pd\n",
    "import seaborn as sns\n",
    "import matplotlib.pyplot as plt\n",
    "from pathlib import Path"
   ],
   "outputs": [],
   "execution_count": 2
  },
  {
   "cell_type": "code",
   "metadata": {},
   "source": "resultfile_path = 'DP_Steel/grid_DP_100_tensionX_Material_DP_numerics.hdf5'",
   "outputs": [],
   "execution_count": null
  },
  {
   "cell_type": "code",
   "metadata": {},
   "source": [
    "result = damask.Result(resultfile_path)\n",
    "try:\n",
    "    result.add_stress_Cauchy()\n",
    "except ValueError:\n",
    "    pass\n",
    "try:\n",
    "    result.add_equivalent_Mises('sigma')\n",
    "except ValueError:\n",
    "    pass\n",
    "try:\n",
    "    result.add_stress_second_Piola_Kirchhoff()\n",
    "except ValueError:\n",
    "    pass\n",
    "\n",
    "try:\n",
    "    result.add_strain()\n",
    "except ValueError:\n",
    "    pass\n",
    "\n",
    "postprossecing_dir = Path(resultfile_path).stem\n",
    "vti_path = \"DP_Steel/grid_DP_100.vti\"\n",
    "grid = damask.GeomGrid.load(vti_path)\n",
    "grid"
   ],
   "outputs": [],
   "execution_count": null
  },
  {
   "cell_type": "markdown",
   "metadata": {},
   "source": [
    "# Example: Stress-strain curve for tensionX"
   ]
  },
  {
   "metadata": {},
   "cell_type": "code",
   "source": [
    "data = result.get(['F','P']).values()\n",
    "\n",
    "Ferrite_F_list = []\n",
    "Martensite_F_list = []\n",
    "for inc in data:\n",
    "    Ferrite_F = inc['Ferrite']['F']\n",
    "    Martensite_F = inc['Martensite']['F']\n",
    "    Ferrite_F_list.append(Ferrite_F)\n",
    "    Martensite_F_list.append(Martensite_F)"
   ],
   "outputs": [],
   "execution_count": null
  },
  {
   "metadata": {},
   "cell_type": "code",
   "source": [
    "Ferrite_F_list = np.array(Ferrite_F_list)\n",
    "Martensite_F_list = np.array(Martensite_F_list)\n",
    "\n",
    "Ferrite_F_11 = Ferrite_F_list[:,:,0,0]\n",
    "Martensite_F_11 = Martensite_F_list[:,:,0,0]"
   ],
   "outputs": [],
   "execution_count": null
  },
  {
   "metadata": {},
   "cell_type": "code",
   "source": [
    "epsilon_11_Ferrite = np.average(Ferrite_F_11, axis=1) # average over all points\n",
    "epsilon_11_Martensite = np.average(Martensite_F_11, axis=1) # average over all points\n",
    "\n",
    "\n",
    "factor = len(Ferrite_F_11)/(len(Ferrite_F_11) + len(Martensite_F_11))\n",
    "epsilon_11 = (epsilon_11_Ferrite - 1)* factor + (epsilon_11_Martensite - 1) * (1 - factor)# average over phases\n",
    "\n",
    "plt.plot(epsilon_11, label='Total')\n",
    "plt.plot(epsilon_11_Ferrite - 1, label='Ferrite')\n",
    "plt.plot(epsilon_11_Martensite - 1, label='Martensite')\n",
    "plt.xlabel('Increment')\n",
    "plt.ylabel('Strain 11')\n",
    "plt.legend()"
   ],
   "outputs": [],
   "execution_count": null
  },
  {
   "metadata": {},
   "cell_type": "code",
   "source": [
    "data = result.get(['epsilon_V^0.0(F)']).values()\n",
    "\n",
    "Ferrite_epsilon_list = []\n",
    "Martensite_epsilon_list = []\n",
    "for inc in data:\n",
    "    Ferrite_F = inc['Ferrite']\n",
    "    Martensite_F = inc['Martensite']\n",
    "    Ferrite_epsilon_list.append(Ferrite_F)\n",
    "    Martensite_epsilon_list.append(Martensite_F)"
   ],
   "outputs": [],
   "execution_count": null
  },
  {
   "metadata": {},
   "cell_type": "code",
   "source": [
    "Ferrite_epsilon_list = np.array(Ferrite_epsilon_list)\n",
    "Martensite_epsilon_list = np.array(Martensite_epsilon_list)\n",
    "\n",
    "Ferrite_epsilon_11 = Ferrite_epsilon_list[:,:,0,0]\n",
    "Martensite_epsilon_11 = Martensite_epsilon_list[:,:,0,0]"
   ],
   "outputs": [],
   "execution_count": null
  },
  {
   "metadata": {},
   "cell_type": "code",
   "source": [
    "epsilon_11_Ferrite_strain = np.average(Ferrite_epsilon_11, axis=1) # average over all points\n",
    "epsilon_11_Martensite_strain = np.average(Martensite_epsilon_11, axis=1) # average over all points\n",
    "\n",
    "\n",
    "factor = len(Ferrite_F_11)/(len(Ferrite_F_11) + len(Martensite_F_11))\n",
    "epsilon_11_strain = (epsilon_11_Ferrite_strain)* factor + (epsilon_11_Martensite_strain) * (1 - factor)# average over phases\n",
    "\n",
    "plt.plot(epsilon_11_strain, label='Total')\n",
    "plt.plot(epsilon_11_Ferrite_strain, label='Ferrite')\n",
    "plt.plot(epsilon_11_Martensite_strain, label='Martensite')\n",
    "plt.xlabel('Increment')\n",
    "plt.ylabel('Strain 11')\n",
    "plt.legend()"
   ],
   "outputs": [],
   "execution_count": null
  },
  {
   "metadata": {},
   "cell_type": "code",
   "source": [
    "data = result.get(['sigma']).values()\n",
    "\n",
    "Ferrite_sigma_list = []\n",
    "Martensite_sigma_list = []\n",
    "for inc in data:\n",
    "    Ferrite_sigma = inc['Ferrite']\n",
    "    Martensite_sigma = inc['Martensite']\n",
    "    Ferrite_sigma_list.append(Ferrite_sigma)\n",
    "    Martensite_sigma_list.append(Martensite_sigma)"
   ],
   "outputs": [],
   "execution_count": null
  },
  {
   "metadata": {},
   "cell_type": "code",
   "source": [
    "Ferrite_sigma_list = np.array(Ferrite_sigma_list)\n",
    "Martensite_sigma_list = np.array(Martensite_sigma_list)\n",
    "\n",
    "Ferrite_sigma_11 = Ferrite_sigma_list[:,:,0,0]\n",
    "Martensite_sigma_11 = Martensite_sigma_list[:,:,0,0]"
   ],
   "outputs": [],
   "execution_count": null
  },
  {
   "metadata": {},
   "cell_type": "code",
   "source": [
    "sigma_11_Ferrite = np.average(Ferrite_sigma_11, axis=1) # average over all points\n",
    "sigma_11_Martensite = np.average(Martensite_sigma_11, axis=1) # average over all points\n",
    "\n",
    "\n",
    "factor = len(Ferrite_F_11)/(len(Ferrite_F_11) + len(Martensite_F_11))\n",
    "\n",
    "sigma_11 = (sigma_11_Ferrite)* factor + (sigma_11_Martensite) * (1 - factor)# average over phases\n",
    "\n",
    "plt.plot(epsilon_11_strain, sigma_11 / 1e6, label='Total')\n",
    "plt.plot(epsilon_11_Ferrite_strain, sigma_11_Ferrite / 1e6,label='Ferrite')\n",
    "plt.plot(epsilon_11_Martensite_strain, sigma_11_Martensite / 1e6,label='Martensite')\n",
    "plt.xlabel('Stress')\n",
    "plt.ylabel('Sigma 11')\n",
    "plt.legend()"
   ],
   "outputs": [],
   "execution_count": null
  },
  {
   "metadata": {
    "ExecuteTime": {
     "end_time": "2025-09-19T03:29:43.975185Z",
     "start_time": "2025-09-19T03:29:43.969805Z"
    }
   },
   "cell_type": "code",
   "source": [
    "result._visible\n",
    "result_fe = result\n",
    "result_fe._visible['phases'] = [np.str_('Ferrite')]\n",
    "result_mat = result\n",
    "result_mat._visible['phases'] = [np.str_('Martensite')]"
   ],
   "outputs": [],
   "execution_count": 30
  },
  {
   "metadata": {
    "ExecuteTime": {
     "end_time": "2025-09-19T03:30:49.804555Z",
     "start_time": "2025-09-19T03:29:58.433475Z"
    }
   },
   "cell_type": "code",
   "source": "result_fe.export_VTK()",
   "outputs": [],
   "execution_count": 32
  },
  {
   "metadata": {},
   "cell_type": "markdown",
   "source": "# Damage部分"
  },
  {
   "metadata": {
    "ExecuteTime": {
     "end_time": "2025-09-19T05:56:27.876313Z",
     "start_time": "2025-09-19T05:56:27.873788Z"
    }
   },
   "cell_type": "code",
   "source": "resultfile_path = 'Damage_Steel_Dual/grid_Steel_100_damage_tensionX_Damage_Steel_damage_numerics.hdf5'",
   "outputs": [],
   "execution_count": 1
  },
  {
   "metadata": {
    "ExecuteTime": {
     "end_time": "2025-09-19T05:57:57.737117Z",
     "start_time": "2025-09-19T05:57:49.306608Z"
    }
   },
   "cell_type": "code",
   "source": [
    "result = damask.Result(resultfile_path)\n",
    "try:\n",
    "    result.add_stress_Cauchy()\n",
    "except ValueError:\n",
    "    pass\n",
    "try:\n",
    "    result.add_equivalent_Mises('sigma')\n",
    "except ValueError:\n",
    "    pass\n",
    "try:\n",
    "    result.add_stress_second_Piola_Kirchhoff()\n",
    "except ValueError:\n",
    "    pass\n",
    "\n",
    "try:\n",
    "    result.add_strain()\n",
    "except ValueError:\n",
    "    pass\n",
    "\n",
    "postprossecing_dir = Path(resultfile_path).stem\n",
    "vti_path = \"DP_Steel/grid_DP_100.vti\"\n",
    "grid = damask.GeomGrid.load(vti_path)\n",
    "grid"
   ],
   "outputs": [
    {
     "data": {
      "text/plain": [
       "cells:  200 × 200 × 5\n",
       "size:   0.002 × 0.002 × 5e-05 m³\n",
       "origin: 0.0   0.0   0.0 m\n",
       "# materials: 100"
      ]
     },
     "execution_count": 4,
     "metadata": {},
     "output_type": "execute_result"
    }
   ],
   "execution_count": 4
  },
  {
   "metadata": {
    "ExecuteTime": {
     "end_time": "2025-09-19T05:57:59.231029Z",
     "start_time": "2025-09-19T05:57:59.212745Z"
    }
   },
   "cell_type": "code",
   "source": [
    "data = result.get(['Psi_D']).values()\n",
    "\n",
    "Fe_D_list = []\n",
    "X2Cr_D_list = []\n",
    "for inc in data:\n",
    "    Psi1 = inc['Ferrite']\n",
    "    Fe_D_list.append(Psi1)\n",
    "    Psi2 = inc['X2CrNiMo']\n",
    "    X2Cr_D_list.append(Psi2)"
   ],
   "outputs": [],
   "execution_count": 5
  },
  {
   "metadata": {
    "ExecuteTime": {
     "end_time": "2025-09-19T05:58:00.683403Z",
     "start_time": "2025-09-19T05:58:00.675278Z"
    }
   },
   "cell_type": "code",
   "source": [
    "Fe_D_list = np.array(Fe_D_list)\n",
    "X2Cr_D_list = np.array(X2Cr_D_list)\n",
    "Fe_D = np.average(Fe_D_list, axis=1) # average over all points\n",
    "X2Cr_D = np.average(X2Cr_D_list, axis=1) # average"
   ],
   "outputs": [],
   "execution_count": 6
  },
  {
   "metadata": {
    "ExecuteTime": {
     "end_time": "2025-09-19T05:58:02.018801Z",
     "start_time": "2025-09-19T05:58:01.895672Z"
    }
   },
   "cell_type": "code",
   "source": [
    "plt.plot(Fe_D - 1, label='Fe_D')\n",
    "plt.plot(X2Cr_D - 1, label='X2Cr_D')\n",
    "plt.xlabel('Increment')\n",
    "plt.ylabel('Psi 11')\n",
    "plt.legend()"
   ],
   "outputs": [
    {
     "data": {
      "text/plain": [
       "<matplotlib.legend.Legend at 0x19a6e71dfd0>"
      ]
     },
     "execution_count": 7,
     "metadata": {},
     "output_type": "execute_result"
    },
    {
     "data": {
      "text/plain": [
       "<Figure size 640x480 with 1 Axes>"
      ],
      "image/png": "[encoded data removed]"
     },
     "metadata": {},
     "output_type": "display_data",
     "jetTransient": {
      "display_id": null
     }
    }
   ],
   "execution_count": 7
  },
  {
   "metadata": {
    "ExecuteTime": {
     "end_time": "2025-09-19T05:58:38.602045Z",
     "start_time": "2025-09-19T05:58:18.027217Z"
    }
   },
   "cell_type": "code",
   "source": "result.export_VTK()",
   "outputs": [],
   "execution_count": 8
  },
  {
   "metadata": {
    "ExecuteTime": {
     "end_time": "2025-09-19T04:33:40.926218Z",
     "start_time": "2025-09-19T04:33:18.392287Z"
    }
   },
   "cell_type": "code",
   "source": [
    "result_fe = result\n",
    "result_fe._visible['phases'] = [np.str_('Ferrite')]\n",
    "result_fe.export_VTK()"
   ],
   "outputs": [],
   "execution_count": 12
  },
  {
   "metadata": {},
   "cell_type": "markdown",
   "source": "# Damage Singal"
  },
  {
   "metadata": {
    "ExecuteTime": {
     "end_time": "2025-09-19T05:20:20.210618Z",
     "start_time": "2025-09-19T05:20:15.447973Z"
    }
   },
   "cell_type": "code",
   "source": [
    "resultfile_path = 'Damage_Steel_Singal\\\\grid_Steel_100_damage_tensionX_Damage_Steel_damage_singla_numerics.hdf5'\n",
    "result = damask.Result(resultfile_path)\n",
    "result = damask.Result(resultfile_path)\n",
    "try:\n",
    "    result.add_stress_Cauchy()\n",
    "except ValueError:\n",
    "    pass\n",
    "try:\n",
    "    result.add_equivalent_Mises('sigma')\n",
    "except ValueError:\n",
    "    pass\n",
    "try:\n",
    "    result.add_stress_second_Piola_Kirchhoff()\n",
    "except ValueError:\n",
    "    pass\n",
    "\n",
    "try:\n",
    "    result.add_strain()\n",
    "except ValueError:\n",
    "    pass\n",
    "\n",
    "postprossecing_dir = Path(resultfile_path).stem\n",
    "vti_path = \"DP_Steel/grid_DP_100.vti\"\n",
    "grid = damask.GeomGrid.load(vti_path)\n",
    "grid"
   ],
   "outputs": [
    {
     "data": {
      "text/plain": [
       "cells:  200 × 200 × 5\n",
       "size:   0.002 × 0.002 × 5e-05 m³\n",
       "origin: 0.0   0.0   0.0 m\n",
       "# materials: 100"
      ]
     },
     "execution_count": 13,
     "metadata": {},
     "output_type": "execute_result"
    }
   ],
   "execution_count": 13
  },
  {
   "metadata": {
    "ExecuteTime": {
     "end_time": "2025-09-19T05:20:34.848785Z",
     "start_time": "2025-09-19T05:20:25.537894Z"
    }
   },
   "cell_type": "code",
   "source": "result.export_VTK()",
   "outputs": [],
   "execution_count": 14
  }
 ],
 "metadata": {
  "kernelspec": {
   "display_name": "Python 3",
   "language": "python",
   "name": "python3"
  },
  "language_info": {
   "codemirror_mode": {
    "name": "ipython",
    "version": 3
   },
   "file_extension": ".py",
   "mimetype": "text/x-python",
   "name": "python",
   "nbconvert_exporter": "python",
   "pygments_lexer": "ipython3",
   "version": "3.10.12"
  }
 },
 "nbformat": 4,
 "nbformat_minor": 2
}
