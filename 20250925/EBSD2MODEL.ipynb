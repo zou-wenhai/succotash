{
 "cells": [
  {
   "cell_type": "code",
   "execution_count": 1,
   "id": "initial_id",
   "metadata": {
    "ExecuteTime": {
     "end_time": "2025-09-25T14:25:49.383698Z",
     "start_time": "2025-09-25T14:25:48.112509Z"
    },
    "collapsed": true
   },
   "outputs": [],
   "source": [
    "from EBSD2GRID import EBSD2GRID\n",
    "import numpy as np\n",
    "import damask\n",
    "import pandas as pd\n",
    "import yaml"
   ]
  },
  {
   "cell_type": "code",
   "execution_count": 2,
   "id": "cb36ff7936dba74",
   "metadata": {
    "ExecuteTime": {
     "end_time": "2025-09-25T14:32:34.298232Z",
     "start_time": "2025-09-25T14:32:33.960005Z"
    }
   },
   "outputs": [],
   "source": [
    "ctf_file = \"A55-100.ctf\"\n",
    "EBSD2GRID(ctf_file, 2) # 第二个参数是相数"
   ]
  },
  {
   "cell_type": "code",
   "execution_count": 3,
   "id": "9313451e199f552",
   "metadata": {
    "ExecuteTime": {
     "end_time": "2025-09-25T14:33:42.985786Z",
     "start_time": "2025-09-25T14:33:41.674403Z"
    }
   },
   "outputs": [],
   "source": [
    "Fix_data = pd.read_csv(\"A55-100.csv\", sep='\\t', dtype=str)\n",
    "\n",
    "# phase = 0 的 都改成 1\n",
    "# 相当于消除领解析的相\n",
    "\n",
    "Fix_data.loc[Fix_data['phase'] == '0', 'phase'] = '1'\n",
    "\n",
    "\n",
    "# phase = 1 的都改为 相名称\n",
    "Fix_data.loc[Fix_data['phase'] == '1', 'phase'] = 'IronBcc'\n",
    "Fix_data.loc[Fix_data['phase'] == '2', 'phase'] = 'IronFcc' #如果有第二相\n",
    "\n",
    "Fix_data.to_csv(\"A55-100.csv\", index=False, sep=' ')"
   ]
  },
  {
   "cell_type": "code",
   "execution_count": 4,
   "id": "2ee4f4dd14881f7d",
   "metadata": {
    "ExecuteTime": {
     "end_time": "2025-09-25T14:49:07.446204Z",
     "start_time": "2025-09-25T14:49:07.435968Z"
    }
   },
   "outputs": [],
   "source": [
    "with open(\"Hooke_Fe.yaml\", 'r', encoding='utf-8') as f:\n",
    "    Fe_elasticity = yaml.safe_load(f)\n",
    "\n",
    "with open(\"phenopowerlaw_DP-steel-ferrite.yaml\", 'r', encoding='utf-8') as f:\n",
    "    IronBCC_plasticity = yaml.safe_load(f)\n",
    "\n",
    "# 这是镍基合金的 参数得改\n",
    "with open(\"phenopowerlaw_IN625.yaml\", 'r', encoding='utf-8') as f:\n",
    "    IronFcc_plasticity = yaml.safe_load(f)\n",
    "\n",
    "homogenization = {\n",
    "    'SX': {\n",
    "        'N_constituents': 1,\n",
    "        'mechanical': {'type': 'pass'}  # No volume fractions, so no homogenization needed\n",
    "    }\n",
    "}\n",
    "\n",
    "# 会多一个Cu, 删了就行\n",
    "# phase_Cu = {\n",
    "#     'Cu': {\n",
    "#         'lattice': 'cF',\n",
    "#         'rho' : 8960.0,\n",
    "#         'mechanical': {\n",
    "#             'output': ['F', 'P', 'F_e', 'L_p', 'O'],\n",
    "#             'elastic': Cu_elasticity,\n",
    "#             'plastic': Cu_plasticity\n",
    "#         }\n",
    "#     }\n",
    "# }\n",
    "\n",
    "phase_IronBcc = {\n",
    "        'lattice': 'cI',\n",
    "        'rho' : 7874.0,\n",
    "        'mechanical': {\n",
    "            'output': ['F', 'P', 'F_e', 'L_p', 'O'],\n",
    "            'elastic': Fe_elasticity,\n",
    "            'plastic': IronBCC_plasticity\n",
    "    }\n",
    "}\n",
    "\n",
    "phase_IronFcc = {\n",
    "        'lattice': 'cF',\n",
    "        'rho' : 7874.0,\n",
    "        'mechanical': {\n",
    "            'output': ['F', 'P', 'F_e', 'L_p', 'O'],\n",
    "            'elastic': Fe_elasticity,\n",
    "            'plastic': IronFcc_plasticity\n",
    "    }\n",
    "}"
   ]
  },
  {
   "cell_type": "code",
   "execution_count": 13,
   "id": "718d2e30b4a474ee",
   "metadata": {
    "ExecuteTime": {
     "end_time": "2025-09-25T14:50:09.810792Z",
     "start_time": "2025-09-25T14:50:04.935824Z"
    }
   },
   "outputs": [],
   "source": [
    "Model = damask.Table.load(\"A55-100.csv\")\n",
    "\n",
    "gridfile = damask.GeomGrid.from_table(Model, 'pos', ['phase', 'qu'])\n",
    "gridfile.origin = [0, 0, 0]\n",
    "gridfile.size[2] = 0.05\n",
    "CM = damask.ConfigMaterial.from_table(Model, phase='phase', O='qu', homogenization='homogenization')\n",
    "CM['phase']['IronFcc'] = phase_IronFcc\n",
    "CM['phase']['IronBcc'] = phase_IronBcc\n",
    "CM['homogenization']= homogenization"
   ]
  },
  {
   "cell_type": "code",
   "execution_count": 14,
   "id": "f2c63ac6fafdec7a",
   "metadata": {
    "ExecuteTime": {
     "end_time": "2025-09-25T14:50:09.816557Z",
     "start_time": "2025-09-25T14:50:09.811916Z"
    }
   },
   "outputs": [
    {
     "data": {
      "text/plain": [
       "{'IronBcc': {'lattice': 'cI',\n",
       "  'rho': 7874.0,\n",
       "  'mechanical': {'output': ['F', 'P', 'F_e', 'L_p', 'O'],\n",
       "   'elastic': {'type': 'Hooke',\n",
       "    'references': ['D.J. Dever, Journal of Applied Physics 43(8):3293-3301, 1972, https://doi.org/10.1063/1.1661710, fit to Tab. II (T_min=25ºC, T_max=880ºC)'],\n",
       "    'C_11': 232200000000.0,\n",
       "    'C_11,T': -46830000.0,\n",
       "    'C_11,T^2': -59880.0,\n",
       "    'C_12': 136400000000.0,\n",
       "    'C_12,T': -19700000.0,\n",
       "    'C_12,T^2': 3760.0,\n",
       "    'C_44': 117000000000.0,\n",
       "    'C_44,T': -20150000.0,\n",
       "    'C_44,T^2': -748.5,\n",
       "    'T_ref': 293.15},\n",
       "   'plastic': {'type': 'phenopowerlaw',\n",
       "    'references': ['C.C. Tasan et al., Acta Materialia 81:386-400, 2014, https://doi.org/10.1016/j.actamat.2014.07.071, Table 1',\n",
       "     'U.F. Kocks, Metallurgical and Materials Transactions B 1:1121–1143, 1970, https://doi.org/10.1007/BF02900224'],\n",
       "    'output': ['xi_sl', 'gamma_sl'],\n",
       "    'N_sl': [12, 12],\n",
       "    'dot_gamma_0_sl': [0.001, 0.001],\n",
       "    'n_sl': [20, 20],\n",
       "    'a_sl': [2.25, 2.25],\n",
       "    'xi_0_sl': [95000000.0, 96000000.0],\n",
       "    'xi_inf_sl': [222000000.0, 412000000.0],\n",
       "    'h_0_sl-sl': [1000000000.0, 1000000000.0],\n",
       "    'h_sl-sl': [1,\n",
       "     1.4,\n",
       "     1,\n",
       "     1.4,\n",
       "     1.4,\n",
       "     1.4,\n",
       "     1.4,\n",
       "     1.4,\n",
       "     1.4,\n",
       "     1.4,\n",
       "     1.4,\n",
       "     1.4,\n",
       "     1.4,\n",
       "     1.4,\n",
       "     1.4,\n",
       "     1.4,\n",
       "     1.4,\n",
       "     1.4,\n",
       "     1.4,\n",
       "     1.4,\n",
       "     1.4,\n",
       "     1.4,\n",
       "     1.4,\n",
       "     1.4]}}},\n",
       " 'IronFcc': {'lattice': 'cF',\n",
       "  'rho': 7874.0,\n",
       "  'mechanical': {'output': ['F', 'P', 'F_e', 'L_p', 'O'],\n",
       "   'elastic': {'type': 'Hooke',\n",
       "    'references': ['D.J. Dever, Journal of Applied Physics 43(8):3293-3301, 1972, https://doi.org/10.1063/1.1661710, fit to Tab. II (T_min=25ºC, T_max=880ºC)'],\n",
       "    'C_11': 232200000000.0,\n",
       "    'C_11,T': -46830000.0,\n",
       "    'C_11,T^2': -59880.0,\n",
       "    'C_12': 136400000000.0,\n",
       "    'C_12,T': -19700000.0,\n",
       "    'C_12,T^2': 3760.0,\n",
       "    'C_44': 117000000000.0,\n",
       "    'C_44,T': -20150000.0,\n",
       "    'C_44,T^2': -748.5,\n",
       "    'T_ref': 293.15},\n",
       "   'plastic': {'type': 'phenopowerlaw',\n",
       "    'references': ['N. Prabhu and M. Diehl, Integrating Materials and Manufacturing Innovation 13:804-826, 2024, https://doi.org/10.1007/s40192-024-00359-1, Table 3(d)',\n",
       "     'R. Madec and L.P. Kubin, Acta Materialia 126:166-173, 2017, https://doi.org/10.1016/j.actamat.2016.12.040, Table 1 for Ni',\n",
       "     'L.P. Kubin et al., Acta Materialia 56(20):6040-6049, 2008, https://doi.org/10.1016/j.actamat.2008.08.012, Table 1 (self and coplanar)'],\n",
       "    'output': ['xi_sl', 'gamma_sl'],\n",
       "    'N_sl': [12],\n",
       "    'dot_gamma_0_sl': 0.0002,\n",
       "    'xi_0_sl': [143500000.0],\n",
       "    'xi_inf_sl': [470000000.0],\n",
       "    'h_0_sl-sl': 1120000000.0,\n",
       "    'a_sl': 1,\n",
       "    'n_sl': 40,\n",
       "    'h_sl-sl': [1, 1, 5.123, 0.574, 1.123, 1.123, 1]}}}}"
      ]
     },
     "execution_count": 14,
     "metadata": {},
     "output_type": "execute_result"
    }
   ],
   "source": [
    "CM['phase']"
   ]
  },
  {
   "cell_type": "code",
   "execution_count": 15,
   "id": "8da07ce121f19591",
   "metadata": {
    "ExecuteTime": {
     "end_time": "2025-09-25T14:50:47.922326Z",
     "start_time": "2025-09-25T14:50:09.817420Z"
    }
   },
   "outputs": [],
   "source": [
    "gridfile.save(\"Steel_ebsd\")\n",
    "CM.save(\"Steel_ebsd.yaml\")"
   ]
  },
  {
   "cell_type": "code",
   "execution_count": 11,
   "id": "eba310e69c0462e8",
   "metadata": {
    "ExecuteTime": {
     "end_time": "2025-09-25T14:46:39.719307Z",
     "start_time": "2025-09-25T14:42:46.820429Z"
    }
   },
   "outputs": [],
   "source": [
    "vti_path = \"Steel_ebsd.vti\"\n",
    "material_path = \"Steel_ebsd.yaml\"\n",
    "v = damask.VTK.load(vti_path)\n",
    "material_ID = v.get(label='material').flatten()\n",
    "\n",
    "ma = damask.ConfigMaterial.load(material_path)\n",
    "\n",
    "phases = list(ma['phase'].keys())\n",
    "info = []\n",
    "\n",
    "for m in ma['material']:\n",
    "    c = m['constituents'][0]\n",
    "    phase = c['phase']\n",
    "    info.append({'phase':   phase,\n",
    "                 'phaseID': phases.index(phase),\n",
    "                 'lattice': ma['phase'][phase]['lattice'],\n",
    "                 'O':       c['O'],\n",
    "                })\n",
    "\n",
    "l = np.array([0,0,1])                            # lab frame direction for IPF\n",
    "\n",
    "IPF = np.ones((len(material_ID),3),np.uint8)\n",
    "for i,data in enumerate(info):\n",
    "    IPF[np.where(material_ID==i)] = \\\n",
    "    np.uint8(damask.Orientation(data['O'],lattice=data['lattice']).IPF_color(l)*255)\n",
    "\n",
    "v = v.set(f'IPF_{l}',IPF)\n",
    "\n",
    "p   = np.array([d['phase'] for d in info])\n",
    "pid = np.array([d['phaseID'] for d in info])\n",
    "v = v.set(label='phase',data=p[material_ID],info='phase name')\n",
    "v = v.set(label='phaseID',data=pid[material_ID],info='phase ID')\n",
    "\n",
    "v.save(f'IPF_{l}_Steel_ebsd.vti')"
   ]
  },
  {
   "cell_type": "code",
   "execution_count": 27,
   "id": "447a3e35abf44cfe",
   "metadata": {
    "ExecuteTime": {
     "end_time": "2025-09-20T06:04:35.890381Z",
     "start_time": "2025-09-20T06:04:35.841797Z"
    }
   },
   "outputs": [],
   "source": [
    "result_file = \"Cu_ebsd_tensionX_Cu_ebsd_effectiveNumerics.hdf5\"\n",
    "\n",
    "res = damask.Result(result_file)"
   ]
  },
  {
   "cell_type": "code",
   "execution_count": 28,
   "id": "8cb661bd24ffa0f6",
   "metadata": {
    "ExecuteTime": {
     "end_time": "2025-09-20T06:04:40.770348Z",
     "start_time": "2025-09-20T06:04:40.763909Z"
    }
   },
   "outputs": [
    {
     "data": {
      "text/plain": [
       "\u001b[2mCreated by DAMASK_grid v3.0.2\n",
       "        on 2025-09-20 13:55:15+0800\n",
       " executing \"DAMASK_grid --load tensionX.yaml --geom Cu_ebsd.vti --material Cu_ebsd.yaml --numerics effectiveNumerics.yaml\"\u001b[0m\n",
       "\n",
       "increment_0 (0.0 s)\n",
       "  phase\n",
       "    Cu\n",
       "      mechanical\n",
       "        F / 1: deformation gradient\n",
       "        F_e / 1: elastic deformation gradient\n",
       "        L_p / 1/s: plastic velocity gradient\n",
       "        O / 1: crystal orientation as quaternion q_0 (q_1 q_2 q_3)\n",
       "        P / Pa: first Piola-Kirchhoff stress\n",
       "        gamma_sl / 1: plastic shear\n",
       "        xi_sl / Pa: resistance against plastic slip\n",
       "  homogenization\n",
       "    SX\n",
       "      mechanical\n",
       "\n",
       "increment_50\n",
       "  ...\n",
       "\n",
       "increment_100 (5.0 s)\n",
       "  phase\n",
       "    Cu\n",
       "      mechanical\n",
       "        F / 1: deformation gradient\n",
       "        F_e / 1: elastic deformation gradient\n",
       "        L_p / 1/s: plastic velocity gradient\n",
       "        O / 1: crystal orientation as quaternion q_0 (q_1 q_2 q_3)\n",
       "        P / Pa: first Piola-Kirchhoff stress\n",
       "        gamma_sl / 1: plastic shear\n",
       "        xi_sl / Pa: resistance against plastic slip\n",
       "  homogenization\n",
       "    SX\n",
       "      mechanical"
      ]
     },
     "execution_count": 28,
     "metadata": {},
     "output_type": "execute_result"
    }
   ],
   "source": [
    "res"
   ]
  },
  {
   "cell_type": "code",
   "execution_count": 30,
   "id": "5dec7fa3a9bd56a7",
   "metadata": {
    "ExecuteTime": {
     "end_time": "2025-09-20T06:06:16.376322Z",
     "start_time": "2025-09-20T06:06:16.103840Z"
    }
   },
   "outputs": [],
   "source": [
    "try:\n",
    "    res.add_stress_Cauchy()\n",
    "except ValueError:\n",
    "    pass\n",
    "try:\n",
    "    res.add_equivalent_Mises('sigma')\n",
    "except ValueError:\n",
    "    pass\n",
    "try:\n",
    "    res.add_stress_second_Piola_Kirchhoff()\n",
    "except ValueError:\n",
    "    pass\n",
    "try:\n",
    "    res.add_strain()\n",
    "except ValueError:\n",
    "    pass\n",
    "try:\n",
    "    res.add_equivalent_Mises('epsilon_V^0.0(F)')\n",
    "except ValueError:\n",
    "    pass"
   ]
  },
  {
   "cell_type": "code",
   "execution_count": 33,
   "id": "9c416d8c029e1949",
   "metadata": {
    "ExecuteTime": {
     "end_time": "2025-09-20T06:08:53.696935Z",
     "start_time": "2025-09-20T06:08:51.443448Z"
    }
   },
   "outputs": [],
   "source": [
    "res.add_IPF_color(l = [0,0,1], q = 'O')"
   ]
  },
  {
   "cell_type": "code",
   "execution_count": 34,
   "id": "86a21567f218bafc",
   "metadata": {
    "ExecuteTime": {
     "end_time": "2025-09-20T06:09:00.951339Z",
     "start_time": "2025-09-20T06:08:58.457361Z"
    }
   },
   "outputs": [],
   "source": [
    "res.export_VTK()"
   ]
  }
 ],
 "metadata": {
  "kernelspec": {
   "display_name": "daily",
   "language": "python",
   "name": "python3"
  },
  "language_info": {
   "codemirror_mode": {
    "name": "ipython",
    "version": 3
   },
   "file_extension": ".py",
   "mimetype": "text/x-python",
   "name": "python",
   "nbconvert_exporter": "python",
   "pygments_lexer": "ipython3",
   "version": "3.13.5"
  }
 },
 "nbformat": 4,
 "nbformat_minor": 5
}
